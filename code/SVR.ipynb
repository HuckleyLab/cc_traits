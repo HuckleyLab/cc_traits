{
 "cells": [
  {
   "cell_type": "markdown",
   "metadata": {},
   "source": [
    "The purpose of this notebook is to serve as the canonical example of the SVR regression approach for this project for demonstration purposes. It emulates the following run of `run_experiments.py`:\n",
    "\n",
    "    python3 run_experiments.py ../data/plants5.csv migration_m --algo SVR --cats oceanity dispersal_mode BreedSysCode Grime --drop Taxon migr_sterr_m \"shift + 2SE\" signif_shift signif_shift2 dispmode01 DispModeEng \"shift + 2SE\" --benchmark --save --na feature"
   ]
  },
  {
   "cell_type": "code",
   "execution_count": 2,
   "metadata": {
    "collapsed": true
   },
   "outputs": [],
   "source": [
    "import TraitData"
   ]
  },
  {
   "cell_type": "code",
   "execution_count": 13,
   "metadata": {
    "scrolled": true
   },
   "outputs": [
    {
     "data": {
      "text/plain": [
       "array(['Bio1_mean_nosyn', 'Bio1_std_nosyn', 'Bio1_var_nosyn',\n",
       "       'Bio1_mean_inclsyn', 'Bio1_std_inclsyn', 'Bio1_var_inclsyn',\n",
       "       'oceanity_ks', 'oceanity_o', 'oceanity_os', 'oceanity_sks',\n",
       "       'oceanity_so', 'oceanity_sos', 'dispersal_mode_animal',\n",
       "       'dispersal_mode_gravity', 'dispersal_mode_water',\n",
       "       'dispersal_mode_wind', 'BreedSysCode_1.0', 'BreedSysCode_2.0',\n",
       "       'BreedSysCode_3.0', 'BreedSysCode_4.0', 'Grime_c', 'Grime_cs',\n",
       "       'Grime_csr', 'Grime_r', 'Grime_s', 'Grime_sr'], dtype=object)"
      ]
     },
     "execution_count": 13,
     "metadata": {},
     "output_type": "execute_result"
    }
   ],
   "source": [
    "DATAFILE = \"../data/plants5.csv\"\n",
    "RESPONSE = \"migration_m\"\n",
    "CATEGORIES = [\n",
    "     'oceanity',\n",
    "     'dispersal_mode',\n",
    "     'BreedSysCode',\n",
    "     'Grime'\n",
    "]\n",
    "DROPVARS = [\n",
    "    \"Taxon\",\n",
    "    \"migr_sterr_m\",\n",
    "    \"shift + 2SE\",\n",
    "    \"signif_shift\",\n",
    "    \"signif_shift2\",\n",
    "    \"DispModeEng\"\n",
    "]\n",
    "DROPNA = 1 ## drop features (0 for drop samples)\n",
    "\n",
    "data = TraitData.TraitData(DATAFILE,\n",
    "                           RESPONSE,\n",
    "                           DROPVARS, \n",
    "                           CATEGORIES,\n",
    "                           DROPNA)\n",
    "X, x_test, Y, y_test = data.train_test_split(0.30)\n",
    "\n",
    "\n",
    "data.X.columns.values"
   ]
  },
  {
   "cell_type": "code",
   "execution_count": 27,
   "metadata": {},
   "outputs": [],
   "source": [
    "from sklearn.model_selection import KFold, cross_val_score, LeaveOneOut\n",
    "def kFoldCV(model, features, target, K=5):\n",
    "    \"\"\"\n",
    "        Perform 5-fold cross-validation on samples\n",
    "    \"\"\"\n",
    "    return -cross_val_score(model, features, target,\n",
    "                            cv=KFold(K),\n",
    "                            scoring='neg_mean_squared_error', n_jobs=1).mean()\n",
    "def LeaveOneOutCV(model, features, target):\n",
    "    \"\"\"\n",
    "        Perform leave-one-out cross validation on samples\n",
    "    \"\"\"\n",
    "    return -cross_val_score(model, features, target,\n",
    "                           cv=LeaveOneOut(),\n",
    "                           scoring=\"neg_mean_squared_error\").mean()"
   ]
  },
  {
   "cell_type": "code",
   "execution_count": 18,
   "metadata": {},
   "outputs": [
    {
     "name": "stdout",
     "output_type": "stream",
     "text": [
      "GridSearch Parameters:  {'kernel': 'rbf', 'shrinking': True, 'cache_size': 200, 'epsilon': 0.1, 'verbose': False, 'tol': 0.001, 'coef0': 0.0, 'degree': 3, 'gamma': 1000.0, 'max_iter': -1, 'C': 10.0}\n"
     ]
    }
   ],
   "source": [
    "from sklearn.svm import SVR\n",
    "from sklearn.model_selection import GridSearchCV\n",
    "from sklearn.preprocessing import scale\n",
    "from numpy import logspace\n",
    "\n",
    "baseModel = SVR()\n",
    "params_grid = {\n",
    "    'C'     : logspace(-3, 3, 13), \n",
    "    'gamma' : logspace(-3, 3, 13) \n",
    "}\n",
    "gridSearch = GridSearchCV(baseModel,\n",
    "                         param_grid = params_grid,\n",
    "                         scoring=\"neg_mean_squared_error\",\n",
    "                         error_score = 0,\n",
    "                         n_jobs = -1,\n",
    "                         cv=KFold(5))\n",
    "gridSearch.fit(scale(X), Y)\n",
    "\n",
    "bestModel = gridSearch.best_estimator_\n",
    "print(\"GridSearch Parameters: \", bestModel.get_params())"
   ]
  },
  {
   "cell_type": "code",
   "execution_count": 22,
   "metadata": {},
   "outputs": [
    {
     "name": "stdout",
     "output_type": "stream",
     "text": [
      "MSE on test data:  33.9784765896\n"
     ]
    }
   ],
   "source": [
    "print(\"MSE on test data (5-fold): \", kFoldCV(bestModel, scale(x_test), y_test))"
   ]
  },
  {
   "cell_type": "code",
   "execution_count": 28,
   "metadata": {},
   "outputs": [
    {
     "name": "stdout",
     "output_type": "stream",
     "text": [
      "MSE on test data (LOO):  35.0724109303\n"
     ]
    }
   ],
   "source": [
    "print(\"MSE on test data (LOO): \", LeaveOneOutCV(bestModel, scale(x_test), y_test))"
   ]
  }
 ],
 "metadata": {
  "kernelspec": {
   "display_name": "Python [default]",
   "language": "python",
   "name": "python3"
  },
  "language_info": {
   "codemirror_mode": {
    "name": "ipython",
    "version": 3
   },
   "file_extension": ".py",
   "mimetype": "text/x-python",
   "name": "python",
   "nbconvert_exporter": "python",
   "pygments_lexer": "ipython3",
   "version": "3.5.4"
  },
  "toc": {
   "colors": {
    "hover_highlight": "#DAA520",
    "navigate_num": "#000000",
    "navigate_text": "#333333",
    "running_highlight": "#FF0000",
    "selected_highlight": "#FFD700",
    "sidebar_border": "#EEEEEE",
    "wrapper_background": "#FFFFFF"
   },
   "moveMenuLeft": true,
   "nav_menu": {
    "height": "12px",
    "width": "252px"
   },
   "navigate_menu": true,
   "number_sections": true,
   "sideBar": true,
   "threshold": 4,
   "toc_cell": false,
   "toc_section_display": "block",
   "toc_window_display": false,
   "widenNotebook": false
  }
 },
 "nbformat": 4,
 "nbformat_minor": 2
}
