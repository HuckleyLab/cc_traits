{
 "cells": [
  {
   "cell_type": "code",
   "execution_count": 20,
   "metadata": {
    "collapsed": true
   },
   "outputs": [],
   "source": [
    "import pandas as pd\n",
    "import numpy as np\n",
    "import pprint\n",
    "import matplotlib.pyplot as plt\n",
    "from sklearn.preprocessing import StandardScaler, scale\n",
    "import seaborn as sns\n",
    "from pyearth import Earth\n",
    "from sklearn.model_selection import LeaveOneOut, KFold, cross_val_score, train_test_split\n",
    "from sklearn.model_selection import GridSearchCV, RandomizedSearchCV\n",
    "\n",
    "%matplotlib inline\n",
    "%config InlineBackend.figure_format = 'retina'\n",
    "pp = pprint.PrettyPrinter()\n",
    "\n",
    "import TraitData\n",
    "from imp import reload\n",
    "from permutation_analysis import Permutation\n",
    "import shap"
   ]
  },
  {
   "cell_type": "code",
   "execution_count": 2,
   "metadata": {
    "collapsed": true
   },
   "outputs": [],
   "source": [
    "SCORING = \"neg_mean_squared_error\""
   ]
  },
  {
   "cell_type": "markdown",
   "metadata": {},
   "source": [
    "# Model Interpretability Exploration"
   ]
  },
  {
   "cell_type": "markdown",
   "metadata": {},
   "source": [
    "## Data Setup"
   ]
  },
  {
   "cell_type": "code",
   "execution_count": 65,
   "metadata": {
    "collapsed": false
   },
   "outputs": [],
   "source": [
    "reload(TraitData)\n",
    "responseVar = \"migration_m\"\n",
    "\n",
    "plants_master = pd.read_csv(\"../data/plants5.csv\")\n",
    "\n",
    "\n",
    "drop_features = [\"Taxon\",\n",
    "                 \"migr_sterr_m\", \n",
    "                 \"shift + 2SE\", \n",
    "                 'signif_shift',\n",
    "                 \"signif_shift2\",\n",
    "                 \"dispmode01\",\n",
    "                 \"DispModeEng\", ## what is this\n",
    "                 \"shift + 2SE\",\n",
    "                ]\n",
    "\n",
    "categorical_features = [\"oceanity\",\n",
    "                        \"dispersal_mode\",\n",
    "                        \"BreedSysCode\",\n",
    "                        \"Grime\"]\n",
    "\n",
    "td = TraitData.TraitData(\"../data/plants5.csv\",\n",
    "               responseVar,\n",
    "               drop_features,\n",
    "               categorical_features,\n",
    "               dropNA=1)\n",
    "\n",
    "X, x_test, Y, y_test = td.train_test_split(0.30)\n",
    "\n",
    "shapdata = shap.DenseData(X, td.feature_names)\n"
   ]
  },
  {
   "cell_type": "markdown",
   "metadata": {},
   "source": [
    "## SVR setup:"
   ]
  },
  {
   "cell_type": "code",
   "execution_count": 66,
   "metadata": {
    "collapsed": false
   },
   "outputs": [
    {
     "data": {
      "text/plain": [
       "26.238067371993722"
      ]
     },
     "execution_count": 66,
     "metadata": {},
     "output_type": "execute_result"
    }
   ],
   "source": [
    "from sklearn.svm import SVR\n",
    "\n",
    "\n",
    "base = SVR()\n",
    "errs = cross_val_score(base, scale(X), Y, cv=LeaveOneOut(), scoring=SCORING, n_jobs=-1)\n",
    "-errs.mean()\n"
   ]
  },
  {
   "cell_type": "markdown",
   "metadata": {},
   "source": [
    "## Model Interpretation"
   ]
  },
  {
   "cell_type": "code",
   "execution_count": 67,
   "metadata": {
    "collapsed": false
   },
   "outputs": [],
   "source": [
    "base.fit(scale(X), Y)\n",
    "explainer = shap.KernelExplainer(base.predict, shapdata)"
   ]
  },
  {
   "cell_type": "code",
   "execution_count": 69,
   "metadata": {
    "collapsed": false
   },
   "outputs": [
    {
     "name": "stdout",
     "output_type": "stream",
     "text": [
      "[ 1.83179648  1.908906    3.53114339  1.47204416  1.41309844  2.76332877\n",
      "  2.62748256  2.28146279  1.73424122  0.48188032  1.56503403  0.07473015\n",
      "  0.57952706  1.52529478  2.2536919   2.00322577  2.34223888  0.6393797\n",
      "  1.90656272  2.3086713   1.91226774  2.11956473  1.84955814  1.19981293\n",
      "  0.69551212  2.30431944  0.56205254  0.83864775  0.91079038  2.53754479\n",
      "  0.53736832  1.46943325  1.4202512   0.3947859   0.96250522  1.31558424\n",
      "  1.06971854  2.82054004  2.28851518  2.47134681]\n",
      "41     10.4\n",
      "10      8.9\n",
      "32      3.0\n",
      "120     0.7\n",
      "40      4.8\n",
      "21      4.3\n",
      "76      3.0\n",
      "18      3.2\n",
      "108     0.0\n",
      "58      9.3\n",
      "44      5.9\n",
      "34      1.1\n",
      "127     7.0\n",
      "95     -5.8\n",
      "75      0.0\n",
      "59      3.5\n",
      "125     2.7\n",
      "82     -2.1\n",
      "26      4.7\n",
      "72     -4.2\n",
      "117    -0.6\n",
      "12      0.1\n",
      "68      0.0\n",
      "55      3.1\n",
      "119     4.6\n",
      "37     -1.4\n",
      "69      0.6\n",
      "126     0.0\n",
      "7      -0.4\n",
      "92      0.1\n",
      "25     -5.2\n",
      "128     6.1\n",
      "62      0.1\n",
      "11      9.9\n",
      "112     2.2\n",
      "47      3.7\n",
      "85      1.6\n",
      "38     -5.6\n",
      "124     3.1\n",
      "116     1.7\n",
      "Name: migration_m, dtype: float64\n"
     ]
    }
   ],
   "source": [
    "print(base.predict(scale(x_test)))\n",
    "print(y_test)"
   ]
  },
  {
   "cell_type": "code",
   "execution_count": null,
   "metadata": {
    "collapsed": true
   },
   "outputs": [],
   "source": []
  }
 ],
 "metadata": {
  "kernelspec": {
   "display_name": "Python 3",
   "language": "python",
   "name": "python3"
  },
  "language_info": {
   "codemirror_mode": {
    "name": "ipython",
    "version": 3
   },
   "file_extension": ".py",
   "mimetype": "text/x-python",
   "name": "python",
   "nbconvert_exporter": "python",
   "pygments_lexer": "ipython3",
   "version": "3.5.2"
  }
 },
 "nbformat": 4,
 "nbformat_minor": 2
}
