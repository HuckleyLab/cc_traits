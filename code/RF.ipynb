{
 "cells": [
  {
   "cell_type": "markdown",
   "metadata": {},
   "source": [
    "The purpose of this notebook is to serve as the canonical example of the Random Forest regression approach for this project for demonstration purposes. It emulates the following run of `run_experiments.py`:\n",
    "\n",
    "    python3 run_experiments.py ../data/plants5.csv migration_m --algo RF --cats oceanity dispersal_mode BreedSysCode Grime --drop Taxon migr_sterr_m \"shift + 2SE\" signif_shift signif_shift2 dispmode01 DispModeEng \"shift + 2SE\" --benchmark --save --na feature"
   ]
  },
  {
   "cell_type": "code",
   "execution_count": 1,
   "metadata": {
    "collapsed": true
   },
   "outputs": [],
   "source": [
    "import TraitData"
   ]
  },
  {
   "cell_type": "code",
   "execution_count": 19,
   "metadata": {},
   "outputs": [
    {
     "data": {
      "text/plain": [
       "array(['body_size', 'Fliers01', 'eggs01', 'flight_start', 'flight_end',\n",
       "       'flight_length', 'gen_time', 'migrants01', 'Bio1_mean', 'Bio1_std',\n",
       "       'Bio1_var', 'LentLot01', 'LentLot', 'LentLot2', 'LentLot3',\n",
       "       'LentLot4', 'Sbound_lat', 'Nbound_lat', 'Lat_center',\n",
       "       'R_size_lat_span', 'R_size_count', 'habitat_old_1', 'habitat_old_2',\n",
       "       'habitat_old_3', 'habitat_old_4', 'habitat_old_5', 'habitat_old_6',\n",
       "       'habitat_old_7', 'R_size_qual_L', 'R_size_qual_M', 'R_type_S',\n",
       "       'R_type_U'], dtype=object)"
      ]
     },
     "execution_count": 19,
     "metadata": {},
     "output_type": "execute_result"
    }
   ],
   "source": [
    "# DATAFILE = \"../data/plants5.csv\"\n",
    "# RESPONSE = \"migration_m\"\n",
    "# CATEGORIES = [\n",
    "#      'oceanity',\n",
    "#      'dispersal_mode',\n",
    "#      'BreedSysCode',\n",
    "#      'Grime'\n",
    "# ]\n",
    "# DROPVARS = [\n",
    "#     \"Taxon\",\n",
    "#     \"migr_sterr_m\",\n",
    "#     \"shift + 2SE\",\n",
    "#     \"signif_shift\",\n",
    "#     \"signif_shift2\",\n",
    "#     \"DispModeEng\"\n",
    "# ]\n",
    "\n",
    "DATAFILE = \"../data/Dragonflies01.csv\"\n",
    "RESPONSE = \"Change_range_size\"\n",
    "CATEGORIES = [\n",
    "    \"habitat_old\",\n",
    "    \"R_size_qual\",\n",
    "    \"R_type\"\n",
    "]\n",
    "DROPVARS = [\n",
    "    \"Fliers\",\n",
    "    \"habitat_eggs\",\n",
    "    \"mass_migrants\",\n",
    "    \"Taxon\",\n",
    "    \"PhyloCode\",\n",
    "    \"Margin_shift_km\"\n",
    "]\n",
    "DROPNA = 1 ## drop features (0 for drop samples)\n",
    "\n",
    "data = TraitData.TraitData(DATAFILE,\n",
    "                           RESPONSE,\n",
    "                           DROPVARS, \n",
    "                           CATEGORIES,\n",
    "                           DROPNA)\n",
    "X, x_test, Y, y_test = data.train_test_split(0.30)\n",
    "\n",
    "\n",
    "data.X.columns.values"
   ]
  },
  {
   "cell_type": "code",
   "execution_count": 20,
   "metadata": {
    "collapsed": true
   },
   "outputs": [],
   "source": [
    "from sklearn.model_selection import KFold, cross_val_score, LeaveOneOut\n",
    "\n",
    "def kFoldCV(model, features, target, K=5):\n",
    "    \"\"\"\n",
    "        Perform 5-fold cross-validation on samples\n",
    "    \"\"\"\n",
    "    return -cross_val_score(model, features, target,\n",
    "                            cv=KFold(K),\n",
    "                            scoring='neg_mean_squared_error', n_jobs=1).mean()\n",
    "def LeaveOneOutCV(model, features, target):\n",
    "    \"\"\"\n",
    "        Perform leave-one-out cross validation on samples\n",
    "    \"\"\"\n",
    "    return -cross_val_score(model, features, target,\n",
    "                           cv=LeaveOneOut(),\n",
    "                           scoring=\"neg_mean_squared_error\").mean()"
   ]
  },
  {
   "cell_type": "code",
   "execution_count": 21,
   "metadata": {
    "collapsed": true
   },
   "outputs": [],
   "source": [
    "from sklearn.ensemble import RandomForestRegressor\n",
    "from sklearn.preprocessing import scale\n",
    "baseModel = RandomForestRegressor()"
   ]
  },
  {
   "cell_type": "code",
   "execution_count": 22,
   "metadata": {},
   "outputs": [
    {
     "name": "stdout",
     "output_type": "stream",
     "text": [
      "MSE on all data (5-fold):  1670.54166667\n"
     ]
    }
   ],
   "source": [
    "\n",
    "print(\"MSE on all data (5-fold): \", kFoldCV(baseModel, scale(data.X), data.Y))"
   ]
  },
  {
   "cell_type": "code",
   "execution_count": 23,
   "metadata": {},
   "outputs": [
    {
     "name": "stdout",
     "output_type": "stream",
     "text": [
      "MSE on all data (LOO):  1521.60606061\n"
     ]
    }
   ],
   "source": [
    "print(\"MSE on all data (LOO): \", LeaveOneOutCV(baseModel, scale(data.X), data.Y))"
   ]
  },
  {
   "cell_type": "markdown",
   "metadata": {},
   "source": [
    "For random forests we can also look at feature importances:"
   ]
  },
  {
   "cell_type": "code",
   "execution_count": 24,
   "metadata": {
    "collapsed": true
   },
   "outputs": [],
   "source": [
    "import numpy as np\n",
    "def importances(weights, features):\n",
    "        \"\"\"\n",
    "        sorts features array based on weights.\n",
    "        \"\"\"\n",
    "        assert(len(weights) == len(features.columns))\n",
    "        sorted_importances = np.argsort(weights)\n",
    "        return list(zip(features.columns.values[sorted_importances[::-1]],\n",
    "                    weights[sorted_importances[::-1]]))"
   ]
  },
  {
   "cell_type": "code",
   "execution_count": 25,
   "metadata": {},
   "outputs": [
    {
     "data": {
      "text/plain": [
       "[('flight_length', 0.2898488568849687),\n",
       " ('R_size_count', 0.24482376258651958),\n",
       " ('flight_end', 0.1760610783259744),\n",
       " ('Bio1_var', 0.060456648832816498),\n",
       " ('Bio1_std', 0.031237713814253061),\n",
       " ('R_size_lat_span', 0.030618950133644497),\n",
       " ('body_size', 0.0304760725827103),\n",
       " ('LentLot', 0.027472154363892755),\n",
       " ('R_size_qual_M', 0.027218436015662435),\n",
       " ('flight_start', 0.015074684622513018),\n",
       " ('Lat_center', 0.012562950779918286),\n",
       " ('eggs01', 0.012199375104313969),\n",
       " ('migrants01', 0.010934398003344786),\n",
       " ('Nbound_lat', 0.0085579090052472113),\n",
       " ('Bio1_mean', 0.0081502726246154272),\n",
       " ('Sbound_lat', 0.0072886144302551723),\n",
       " ('LentLot3', 0.00167625076392753),\n",
       " ('habitat_old_1', 0.0010866866274594992),\n",
       " ('habitat_old_3', 0.0010612966852310065),\n",
       " ('R_type_U', 0.00087334157677592501),\n",
       " ('habitat_old_7', 0.00077452898583509435),\n",
       " ('habitat_old_6', 0.00059328765326791325),\n",
       " ('LentLot2', 0.00037254410091915166),\n",
       " ('R_type_S', 0.00032364862508210159),\n",
       " ('habitat_old_2', 0.00015007269957764926),\n",
       " ('gen_time', 3.9814962107418055e-05),\n",
       " ('LentLot4', 3.3325896663957849e-05),\n",
       " ('LentLot01', 2.7060597271308683e-05),\n",
       " ('habitat_old_4', 3.2509144482620593e-06),\n",
       " ('Fliers01', 3.0118007830682036e-06),\n",
       " ('habitat_old_5', 0.0),\n",
       " ('R_size_qual_L', 0.0)]"
      ]
     },
     "execution_count": 25,
     "metadata": {},
     "output_type": "execute_result"
    }
   ],
   "source": [
    "baseModel.fit(scale(data.X), data.Y)\n",
    "importances(baseModel.feature_importances_, data.X)"
   ]
  },
  {
   "cell_type": "code",
   "execution_count": null,
   "metadata": {
    "collapsed": true
   },
   "outputs": [],
   "source": []
  },
  {
   "cell_type": "code",
   "execution_count": null,
   "metadata": {
    "collapsed": true
   },
   "outputs": [],
   "source": []
  }
 ],
 "metadata": {
  "kernelspec": {
   "display_name": "Python [default]",
   "language": "python",
   "name": "python3"
  },
  "language_info": {
   "codemirror_mode": {
    "name": "ipython",
    "version": 3
   },
   "file_extension": ".py",
   "mimetype": "text/x-python",
   "name": "python",
   "nbconvert_exporter": "python",
   "pygments_lexer": "ipython3",
   "version": "3.5.4"
  },
  "toc": {
   "colors": {
    "hover_highlight": "#DAA520",
    "navigate_num": "#000000",
    "navigate_text": "#333333",
    "running_highlight": "#FF0000",
    "selected_highlight": "#FFD700",
    "sidebar_border": "#EEEEEE",
    "wrapper_background": "#FFFFFF"
   },
   "moveMenuLeft": true,
   "nav_menu": {
    "height": "12px",
    "width": "252px"
   },
   "navigate_menu": true,
   "number_sections": true,
   "sideBar": true,
   "threshold": 4,
   "toc_cell": false,
   "toc_section_display": "block",
   "toc_window_display": false,
   "widenNotebook": false
  }
 },
 "nbformat": 4,
 "nbformat_minor": 2
}
