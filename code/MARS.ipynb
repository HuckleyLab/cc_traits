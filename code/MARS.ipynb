{
 "cells": [
  {
   "cell_type": "markdown",
   "metadata": {},
   "source": [
    "The purpose of this notebook is to serve as the canonical example of the Random Forest regression approach for this project for demonstration purposes. It emulates the following run of `run_experiments.py`:\n",
    "\n",
    "    python3 run_experiments.py ../data/plants5.csv migration_m --algo RF --cats oceanity dispersal_mode BreedSysCode Grime --drop Taxon migr_sterr_m \"shift + 2SE\" signif_shift signif_shift2 dispmode01 DispModeEng \"shift + 2SE\" --benchmark --save --na feature"
   ]
  },
  {
   "cell_type": "code",
   "execution_count": 14,
   "metadata": {
    "collapsed": true
   },
   "outputs": [],
   "source": [
    "import TraitData\n",
    "from seaborn import distplot\n",
    "%matplotlib inline"
   ]
  },
  {
   "cell_type": "code",
   "execution_count": 15,
   "metadata": {
    "collapsed": false
   },
   "outputs": [
    {
     "data": {
      "text/plain": [
       "array(['body_size', 'Fliers01', 'eggs01', 'flight_start', 'flight_end',\n",
       "       'flight_length', 'gen_time', 'migrants01', 'Bio1_mean', 'Bio1_std',\n",
       "       'Bio1_var', 'LentLot01', 'LentLot', 'LentLot2', 'LentLot3',\n",
       "       'LentLot4', 'Sbound_lat', 'Nbound_lat', 'Lat_center',\n",
       "       'R_size_lat_span', 'R_size_count', 'habitat_old_1', 'habitat_old_2',\n",
       "       'habitat_old_3', 'habitat_old_4', 'habitat_old_5', 'habitat_old_6',\n",
       "       'habitat_old_7', 'R_size_qual_L', 'R_size_qual_M', 'R_type_S',\n",
       "       'R_type_U'], dtype=object)"
      ]
     },
     "execution_count": 15,
     "metadata": {},
     "output_type": "execute_result"
    },
    {
     "data": {
      "image/png": "[encoded data removed]",
      "text/plain": [
       "<matplotlib.figure.Figure at 0x10fa55b70>"
      ]
     },
     "metadata": {},
     "output_type": "display_data"
    }
   ],
   "source": [
    "# DATAFILE = \"../data/plants5.csv\"\n",
    "# RESPONSE = \"migration_m\"\n",
    "# CATEGORIES = [\n",
    "#      'oceanity',\n",
    "#      'dispersal_mode',\n",
    "#      'BreedSysCode',\n",
    "#      'Grime'\n",
    "# ]\n",
    "# DROPVARS = [\n",
    "#     \"Taxon\",\n",
    "#     \"migr_sterr_m\",\n",
    "#     \"shift + 2SE\",\n",
    "#     \"signif_shift\",\n",
    "#     \"signif_shift2\",\n",
    "#     \"DispModeEng\"\n",
    "# ]\n",
    "\n",
    "DATAFILE = \"../data/Dragonflies01.csv\"\n",
    "RESPONSE = \"Change_range_size\"\n",
    "CATEGORIES = [\n",
    "    \"habitat_old\",\n",
    "    \"R_size_qual\",\n",
    "    \"R_type\"\n",
    "]\n",
    "DROPVARS = [\n",
    "    \"Fliers\",\n",
    "    \"habitat_eggs\",\n",
    "    \"mass_migrants\",\n",
    "    \"Taxon\",\n",
    "    \"PhyloCode\",\n",
    "    \"Margin_shift_km\"\n",
    "]\n",
    "DROPNA = 1 ## drop features (0 for drop samples)\n",
    "\n",
    "data = TraitData.TraitData(DATAFILE,\n",
    "                           RESPONSE,\n",
    "                           DROPVARS, \n",
    "                           CATEGORIES,\n",
    "                           DROPNA)\n",
    "X, x_test, Y, y_test = data.train_test_split(0.30)\n",
    "\n",
    "distplot(data.Y)\n",
    "\n",
    "data.X.columns.values"
   ]
  },
  {
   "cell_type": "code",
   "execution_count": 3,
   "metadata": {
    "collapsed": true
   },
   "outputs": [],
   "source": [
    "from sklearn.model_selection import KFold, cross_val_score, LeaveOneOut\n",
    "\n",
    "def kFoldCV(model, features, target, K=5):\n",
    "    \"\"\"\n",
    "        Perform 5-fold cross-validation on samples\n",
    "    \"\"\"\n",
    "    return -cross_val_score(model, features, target,\n",
    "                            cv=KFold(K),\n",
    "                            scoring='neg_mean_squared_error', n_jobs=1).mean()\n",
    "def LeaveOneOutCV(model, features, target):\n",
    "    \"\"\"\n",
    "        Perform leave-one-out cross validation on samples\n",
    "    \"\"\"\n",
    "    return -cross_val_score(model, features, target,\n",
    "                           cv=LeaveOneOut(),\n",
    "                           scoring=\"neg_mean_squared_error\").mean()"
   ]
  },
  {
   "cell_type": "code",
   "execution_count": 6,
   "metadata": {
    "collapsed": true
   },
   "outputs": [],
   "source": [
    "from pyearth import Earth\n",
    "baseModel = Earth()"
   ]
  },
  {
   "cell_type": "code",
   "execution_count": 7,
   "metadata": {
    "collapsed": false
   },
   "outputs": [
    {
     "name": "stdout",
     "output_type": "stream",
     "text": [
      "MSE on all data (5-fold):  2809.09943593\n"
     ]
    }
   ],
   "source": [
    "\n",
    "print(\"MSE on all data (5-fold): \", kFoldCV(baseModel, scale(data.X), data.Y))"
   ]
  },
  {
   "cell_type": "code",
   "execution_count": 8,
   "metadata": {
    "collapsed": false
   },
   "outputs": [
    {
     "name": "stdout",
     "output_type": "stream",
     "text": [
      "MSE on all data (LOO):  3387.80247036\n"
     ]
    }
   ],
   "source": [
    "print(\"MSE on all data (LOO): \", LeaveOneOutCV(baseModel, scale(data.X), data.Y))"
   ]
  },
  {
   "cell_type": "code",
   "execution_count": null,
   "metadata": {
    "collapsed": true
   },
   "outputs": [],
   "source": []
  }
 ],
 "metadata": {
  "kernelspec": {
   "display_name": "Python 3",
   "language": "python",
   "name": "python3"
  },
  "language_info": {
   "codemirror_mode": {
    "name": "ipython",
    "version": 3
   },
   "file_extension": ".py",
   "mimetype": "text/x-python",
   "name": "python",
   "nbconvert_exporter": "python",
   "pygments_lexer": "ipython3",
   "version": "3.5.2"
  }
 },
 "nbformat": 4,
 "nbformat_minor": 2
}
